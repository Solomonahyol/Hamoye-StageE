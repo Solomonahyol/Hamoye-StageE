{
 "cells": [
  {
   "cell_type": "markdown",
   "id": "1533e793",
   "metadata": {},
   "source": [
    "## Data Set Information:\n",
    "\n",
    "Data Link: https://archive.ics.uci.edu/ml/datasets/individual+household+electric+power+consumption\n",
    "\n",
    "This archive contains 2075259 measurements gathered between December 2006 and November 2010 (47 months).\n",
    "\n",
    "Notes:\n",
    "\n",
    "1.(globalactivepower*1000/60 - submetering1 - submetering2 - submetering3) represents the active energy consumed every minute (in watt hour) in the household by electrical equipment not measured in sub-meterings 1, 2 and 3.\n",
    "\n",
    "2.The dataset contains some missing values in the measurements (nearly 1.25% of the rows). All calendar timestamps are present in the dataset but for some timestamps, the measurement values are missing: a missing value is represented by the absence of value between two consecutive semi-colon attribute separators. For instance, the dataset shows missing values on April 28, 2007.\n",
    "\n",
    "Attribute Information:\n",
    "\n",
    "date: Date in format dd/mm/yyyy\n",
    "time: time in format hh:mm:ss\n",
    "globalactivepower: household global minute-averaged active power (in kilowatt)\n",
    "globalreactivepower: household global minute-averaged reactive power (in kilowatt)\n",
    "voltage: minute-averaged voltage (in volt)\n",
    "global_intensity: household global minute-averaged current intensity (in ampere)\n",
    "submetering1: energy sub-metering No. 1 (in watt-hour of active energy). It corresponds to the kitchen, containing mainly a dishwasher, an oven and a microwave (hot plates are not electric but gas powered).\n",
    "submetering2: energy sub-metering No. 2 (in watt-hour of active energy). It corresponds to the laundry room, containing a washing-machine, a tumble-drier, a refrigerator and a light.\n",
    "submetering3: energy sub-metering No. 3(in watt-hour of active energy). It corresponds to an electric water-heater and an air-conditioner."
   ]
  },
  {
   "cell_type": "markdown",
   "id": "dc9ea0c4",
   "metadata": {},
   "source": [
    "## Data Inspection"
   ]
  },
  {
   "cell_type": "code",
   "execution_count": 1,
   "id": "e0149455",
   "metadata": {},
   "outputs": [],
   "source": [
    "# import all necessary packages \n",
    "import numpy as np\n",
    "import pandas as pd\n",
    "import matplotlib.pyplot as plt\n",
    "from datetime import datetime as dt"
   ]
  },
  {
   "cell_type": "code",
   "execution_count": 2,
   "id": "0e1eee4e",
   "metadata": {},
   "outputs": [
    {
     "name": "stderr",
     "output_type": "stream",
     "text": [
      "C:\\Users\\USER\\AppData\\Local\\Temp\\ipykernel_19836\\3106963437.py:2: DtypeWarning: Columns (2,3,4,5,6,7) have mixed types. Specify dtype option on import or set low_memory=False.\n",
      "  df = pd.read_csv('household_power_consumption.txt', delimiter= ';')\n"
     ]
    }
   ],
   "source": [
    "# load the dataset \n",
    "df = pd.read_csv('household_power_consumption.txt', delimiter= ';')"
   ]
  },
  {
   "cell_type": "code",
   "execution_count": 3,
   "id": "d6493420",
   "metadata": {},
   "outputs": [
    {
     "data": {
      "text/html": [
       "<div>\n",
       "<style scoped>\n",
       "    .dataframe tbody tr th:only-of-type {\n",
       "        vertical-align: middle;\n",
       "    }\n",
       "\n",
       "    .dataframe tbody tr th {\n",
       "        vertical-align: top;\n",
       "    }\n",
       "\n",
       "    .dataframe thead th {\n",
       "        text-align: right;\n",
       "    }\n",
       "</style>\n",
       "<table border=\"1\" class=\"dataframe\">\n",
       "  <thead>\n",
       "    <tr style=\"text-align: right;\">\n",
       "      <th></th>\n",
       "      <th>Date</th>\n",
       "      <th>Time</th>\n",
       "      <th>Global_active_power</th>\n",
       "      <th>Global_reactive_power</th>\n",
       "      <th>Voltage</th>\n",
       "      <th>Global_intensity</th>\n",
       "      <th>Sub_metering_1</th>\n",
       "      <th>Sub_metering_2</th>\n",
       "      <th>Sub_metering_3</th>\n",
       "    </tr>\n",
       "  </thead>\n",
       "  <tbody>\n",
       "    <tr>\n",
       "      <th>0</th>\n",
       "      <td>16/12/2006</td>\n",
       "      <td>17:24:00</td>\n",
       "      <td>4.216</td>\n",
       "      <td>0.418</td>\n",
       "      <td>234.840</td>\n",
       "      <td>18.400</td>\n",
       "      <td>0.000</td>\n",
       "      <td>1.000</td>\n",
       "      <td>17.0</td>\n",
       "    </tr>\n",
       "    <tr>\n",
       "      <th>1</th>\n",
       "      <td>16/12/2006</td>\n",
       "      <td>17:25:00</td>\n",
       "      <td>5.360</td>\n",
       "      <td>0.436</td>\n",
       "      <td>233.630</td>\n",
       "      <td>23.000</td>\n",
       "      <td>0.000</td>\n",
       "      <td>1.000</td>\n",
       "      <td>16.0</td>\n",
       "    </tr>\n",
       "    <tr>\n",
       "      <th>2</th>\n",
       "      <td>16/12/2006</td>\n",
       "      <td>17:26:00</td>\n",
       "      <td>5.374</td>\n",
       "      <td>0.498</td>\n",
       "      <td>233.290</td>\n",
       "      <td>23.000</td>\n",
       "      <td>0.000</td>\n",
       "      <td>2.000</td>\n",
       "      <td>17.0</td>\n",
       "    </tr>\n",
       "    <tr>\n",
       "      <th>3</th>\n",
       "      <td>16/12/2006</td>\n",
       "      <td>17:27:00</td>\n",
       "      <td>5.388</td>\n",
       "      <td>0.502</td>\n",
       "      <td>233.740</td>\n",
       "      <td>23.000</td>\n",
       "      <td>0.000</td>\n",
       "      <td>1.000</td>\n",
       "      <td>17.0</td>\n",
       "    </tr>\n",
       "    <tr>\n",
       "      <th>4</th>\n",
       "      <td>16/12/2006</td>\n",
       "      <td>17:28:00</td>\n",
       "      <td>3.666</td>\n",
       "      <td>0.528</td>\n",
       "      <td>235.680</td>\n",
       "      <td>15.800</td>\n",
       "      <td>0.000</td>\n",
       "      <td>1.000</td>\n",
       "      <td>17.0</td>\n",
       "    </tr>\n",
       "  </tbody>\n",
       "</table>\n",
       "</div>"
      ],
      "text/plain": [
       "         Date      Time Global_active_power Global_reactive_power  Voltage  \\\n",
       "0  16/12/2006  17:24:00               4.216                 0.418  234.840   \n",
       "1  16/12/2006  17:25:00               5.360                 0.436  233.630   \n",
       "2  16/12/2006  17:26:00               5.374                 0.498  233.290   \n",
       "3  16/12/2006  17:27:00               5.388                 0.502  233.740   \n",
       "4  16/12/2006  17:28:00               3.666                 0.528  235.680   \n",
       "\n",
       "  Global_intensity Sub_metering_1 Sub_metering_2  Sub_metering_3  \n",
       "0           18.400          0.000          1.000            17.0  \n",
       "1           23.000          0.000          1.000            16.0  \n",
       "2           23.000          0.000          2.000            17.0  \n",
       "3           23.000          0.000          1.000            17.0  \n",
       "4           15.800          0.000          1.000            17.0  "
      ]
     },
     "execution_count": 3,
     "metadata": {},
     "output_type": "execute_result"
    }
   ],
   "source": [
    "# display the first 5 rows\n",
    "df.head()"
   ]
  },
  {
   "cell_type": "code",
   "execution_count": 4,
   "id": "a9ac95cc",
   "metadata": {},
   "outputs": [
    {
     "data": {
      "text/plain": [
       "(2075259, 9)"
      ]
     },
     "execution_count": 4,
     "metadata": {},
     "output_type": "execute_result"
    }
   ],
   "source": [
    "# display the number of rows and columns\n",
    "df.shape"
   ]
  },
  {
   "cell_type": "code",
   "execution_count": 5,
   "id": "1c0debef",
   "metadata": {},
   "outputs": [
    {
     "data": {
      "text/plain": [
       "Date                         0\n",
       "Time                         0\n",
       "Global_active_power          0\n",
       "Global_reactive_power        0\n",
       "Voltage                      0\n",
       "Global_intensity             0\n",
       "Sub_metering_1               0\n",
       "Sub_metering_2               0\n",
       "Sub_metering_3           25979\n",
       "dtype: int64"
      ]
     },
     "execution_count": 5,
     "metadata": {},
     "output_type": "execute_result"
    }
   ],
   "source": [
    "# check for null values\n",
    "df.isnull().sum()"
   ]
  },
  {
   "cell_type": "code",
   "execution_count": 6,
   "id": "fad0a4e7",
   "metadata": {},
   "outputs": [
    {
     "data": {
      "text/plain": [
       "0"
      ]
     },
     "execution_count": 6,
     "metadata": {},
     "output_type": "execute_result"
    }
   ],
   "source": [
    "# check for duplicated rows\n",
    "df.duplicated().sum()"
   ]
  },
  {
   "cell_type": "code",
   "execution_count": 7,
   "id": "38be7fbe",
   "metadata": {},
   "outputs": [
    {
     "data": {
      "text/plain": [
       "Date                      object\n",
       "Time                      object\n",
       "Global_active_power       object\n",
       "Global_reactive_power     object\n",
       "Voltage                   object\n",
       "Global_intensity          object\n",
       "Sub_metering_1            object\n",
       "Sub_metering_2            object\n",
       "Sub_metering_3           float64\n",
       "dtype: object"
      ]
     },
     "execution_count": 7,
     "metadata": {},
     "output_type": "execute_result"
    }
   ],
   "source": [
    "# check for datatype of each column\n",
    "df.dtypes"
   ]
  },
  {
   "cell_type": "code",
   "execution_count": 8,
   "id": "c52cff3a",
   "metadata": {},
   "outputs": [
    {
     "name": "stderr",
     "output_type": "stream",
     "text": [
      "C:\\Users\\USER\\AppData\\Local\\Temp\\ipykernel_19836\\2301040284.py:2: UserWarning: Parsing dates in DD/MM/YYYY format when dayfirst=False (the default) was specified. This may lead to inconsistently parsed dates! Specify a format to ensure consistent parsing.\n",
      "  df['Date'] = pd.to_datetime(df['Date'])\n"
     ]
    }
   ],
   "source": [
    "# convert the `Date` column to datetime64 datatype \n",
    "df['Date'] = pd.to_datetime(df['Date'])"
   ]
  },
  {
   "cell_type": "code",
   "execution_count": 9,
   "id": "b0586f8c",
   "metadata": {},
   "outputs": [
    {
     "data": {
      "text/html": [
       "<div>\n",
       "<style scoped>\n",
       "    .dataframe tbody tr th:only-of-type {\n",
       "        vertical-align: middle;\n",
       "    }\n",
       "\n",
       "    .dataframe tbody tr th {\n",
       "        vertical-align: top;\n",
       "    }\n",
       "\n",
       "    .dataframe thead th {\n",
       "        text-align: right;\n",
       "    }\n",
       "</style>\n",
       "<table border=\"1\" class=\"dataframe\">\n",
       "  <thead>\n",
       "    <tr style=\"text-align: right;\">\n",
       "      <th></th>\n",
       "      <th>Date</th>\n",
       "      <th>Time</th>\n",
       "      <th>Global_active_power</th>\n",
       "      <th>Global_reactive_power</th>\n",
       "      <th>Voltage</th>\n",
       "      <th>Global_intensity</th>\n",
       "      <th>Sub_metering_1</th>\n",
       "      <th>Sub_metering_2</th>\n",
       "      <th>Sub_metering_3</th>\n",
       "    </tr>\n",
       "  </thead>\n",
       "  <tbody>\n",
       "    <tr>\n",
       "      <th>0</th>\n",
       "      <td>2006-12-16</td>\n",
       "      <td>17:24:00</td>\n",
       "      <td>4.216</td>\n",
       "      <td>0.418</td>\n",
       "      <td>234.840</td>\n",
       "      <td>18.400</td>\n",
       "      <td>0.000</td>\n",
       "      <td>1.000</td>\n",
       "      <td>17.0</td>\n",
       "    </tr>\n",
       "    <tr>\n",
       "      <th>1</th>\n",
       "      <td>2006-12-16</td>\n",
       "      <td>17:25:00</td>\n",
       "      <td>5.360</td>\n",
       "      <td>0.436</td>\n",
       "      <td>233.630</td>\n",
       "      <td>23.000</td>\n",
       "      <td>0.000</td>\n",
       "      <td>1.000</td>\n",
       "      <td>16.0</td>\n",
       "    </tr>\n",
       "    <tr>\n",
       "      <th>2</th>\n",
       "      <td>2006-12-16</td>\n",
       "      <td>17:26:00</td>\n",
       "      <td>5.374</td>\n",
       "      <td>0.498</td>\n",
       "      <td>233.290</td>\n",
       "      <td>23.000</td>\n",
       "      <td>0.000</td>\n",
       "      <td>2.000</td>\n",
       "      <td>17.0</td>\n",
       "    </tr>\n",
       "    <tr>\n",
       "      <th>3</th>\n",
       "      <td>2006-12-16</td>\n",
       "      <td>17:27:00</td>\n",
       "      <td>5.388</td>\n",
       "      <td>0.502</td>\n",
       "      <td>233.740</td>\n",
       "      <td>23.000</td>\n",
       "      <td>0.000</td>\n",
       "      <td>1.000</td>\n",
       "      <td>17.0</td>\n",
       "    </tr>\n",
       "    <tr>\n",
       "      <th>4</th>\n",
       "      <td>2006-12-16</td>\n",
       "      <td>17:28:00</td>\n",
       "      <td>3.666</td>\n",
       "      <td>0.528</td>\n",
       "      <td>235.680</td>\n",
       "      <td>15.800</td>\n",
       "      <td>0.000</td>\n",
       "      <td>1.000</td>\n",
       "      <td>17.0</td>\n",
       "    </tr>\n",
       "  </tbody>\n",
       "</table>\n",
       "</div>"
      ],
      "text/plain": [
       "        Date      Time Global_active_power Global_reactive_power  Voltage  \\\n",
       "0 2006-12-16  17:24:00               4.216                 0.418  234.840   \n",
       "1 2006-12-16  17:25:00               5.360                 0.436  233.630   \n",
       "2 2006-12-16  17:26:00               5.374                 0.498  233.290   \n",
       "3 2006-12-16  17:27:00               5.388                 0.502  233.740   \n",
       "4 2006-12-16  17:28:00               3.666                 0.528  235.680   \n",
       "\n",
       "  Global_intensity Sub_metering_1 Sub_metering_2  Sub_metering_3  \n",
       "0           18.400          0.000          1.000            17.0  \n",
       "1           23.000          0.000          1.000            16.0  \n",
       "2           23.000          0.000          2.000            17.0  \n",
       "3           23.000          0.000          1.000            17.0  \n",
       "4           15.800          0.000          1.000            17.0  "
      ]
     },
     "execution_count": 9,
     "metadata": {},
     "output_type": "execute_result"
    }
   ],
   "source": [
    "df.head()"
   ]
  },
  {
   "cell_type": "markdown",
   "id": "7d77dd8c",
   "metadata": {},
   "source": [
    "## Data Cleaning and Preprocessing"
   ]
  },
  {
   "cell_type": "code",
   "execution_count": 10,
   "id": "f510ae48",
   "metadata": {},
   "outputs": [],
   "source": [
    "# convert all the numeric columns to float datatype  \n",
    "numeric_columns = ['Global_active_power', 'Global_reactive_power', 'Voltage', 'Global_intensity', 'Sub_metering_1', 'Sub_metering_2']\n",
    "\n",
    "df[numeric_columns] = df[numeric_columns].apply(pd.to_numeric, errors= 'coerce')"
   ]
  },
  {
   "cell_type": "code",
   "execution_count": 11,
   "id": "e83b6f0b",
   "metadata": {},
   "outputs": [
    {
     "data": {
      "text/plain": [
       "Date                     datetime64[ns]\n",
       "Time                             object\n",
       "Global_active_power             float64\n",
       "Global_reactive_power           float64\n",
       "Voltage                         float64\n",
       "Global_intensity                float64\n",
       "Sub_metering_1                  float64\n",
       "Sub_metering_2                  float64\n",
       "Sub_metering_3                  float64\n",
       "dtype: object"
      ]
     },
     "execution_count": 11,
     "metadata": {},
     "output_type": "execute_result"
    }
   ],
   "source": [
    "# re-check the datatype again to see if there is changes\n",
    "df.dtypes"
   ]
  },
  {
   "cell_type": "code",
   "execution_count": 12,
   "id": "3eae2572",
   "metadata": {},
   "outputs": [],
   "source": [
    "# set the `Date` column as index in the dataframe\n",
    "df.set_index(\"Date\", inplace= True)"
   ]
  },
  {
   "cell_type": "code",
   "execution_count": 13,
   "id": "71c8834d",
   "metadata": {},
   "outputs": [
    {
     "data": {
      "text/html": [
       "<div>\n",
       "<style scoped>\n",
       "    .dataframe tbody tr th:only-of-type {\n",
       "        vertical-align: middle;\n",
       "    }\n",
       "\n",
       "    .dataframe tbody tr th {\n",
       "        vertical-align: top;\n",
       "    }\n",
       "\n",
       "    .dataframe thead th {\n",
       "        text-align: right;\n",
       "    }\n",
       "</style>\n",
       "<table border=\"1\" class=\"dataframe\">\n",
       "  <thead>\n",
       "    <tr style=\"text-align: right;\">\n",
       "      <th></th>\n",
       "      <th>Time</th>\n",
       "      <th>Global_active_power</th>\n",
       "      <th>Global_reactive_power</th>\n",
       "      <th>Voltage</th>\n",
       "      <th>Global_intensity</th>\n",
       "      <th>Sub_metering_1</th>\n",
       "      <th>Sub_metering_2</th>\n",
       "      <th>Sub_metering_3</th>\n",
       "    </tr>\n",
       "    <tr>\n",
       "      <th>Date</th>\n",
       "      <th></th>\n",
       "      <th></th>\n",
       "      <th></th>\n",
       "      <th></th>\n",
       "      <th></th>\n",
       "      <th></th>\n",
       "      <th></th>\n",
       "      <th></th>\n",
       "    </tr>\n",
       "  </thead>\n",
       "  <tbody>\n",
       "    <tr>\n",
       "      <th>2006-12-16</th>\n",
       "      <td>17:24:00</td>\n",
       "      <td>4.216</td>\n",
       "      <td>0.418</td>\n",
       "      <td>234.84</td>\n",
       "      <td>18.4</td>\n",
       "      <td>0.0</td>\n",
       "      <td>1.0</td>\n",
       "      <td>17.0</td>\n",
       "    </tr>\n",
       "    <tr>\n",
       "      <th>2006-12-16</th>\n",
       "      <td>17:25:00</td>\n",
       "      <td>5.360</td>\n",
       "      <td>0.436</td>\n",
       "      <td>233.63</td>\n",
       "      <td>23.0</td>\n",
       "      <td>0.0</td>\n",
       "      <td>1.0</td>\n",
       "      <td>16.0</td>\n",
       "    </tr>\n",
       "    <tr>\n",
       "      <th>2006-12-16</th>\n",
       "      <td>17:26:00</td>\n",
       "      <td>5.374</td>\n",
       "      <td>0.498</td>\n",
       "      <td>233.29</td>\n",
       "      <td>23.0</td>\n",
       "      <td>0.0</td>\n",
       "      <td>2.0</td>\n",
       "      <td>17.0</td>\n",
       "    </tr>\n",
       "    <tr>\n",
       "      <th>2006-12-16</th>\n",
       "      <td>17:27:00</td>\n",
       "      <td>5.388</td>\n",
       "      <td>0.502</td>\n",
       "      <td>233.74</td>\n",
       "      <td>23.0</td>\n",
       "      <td>0.0</td>\n",
       "      <td>1.0</td>\n",
       "      <td>17.0</td>\n",
       "    </tr>\n",
       "    <tr>\n",
       "      <th>2006-12-16</th>\n",
       "      <td>17:28:00</td>\n",
       "      <td>3.666</td>\n",
       "      <td>0.528</td>\n",
       "      <td>235.68</td>\n",
       "      <td>15.8</td>\n",
       "      <td>0.0</td>\n",
       "      <td>1.0</td>\n",
       "      <td>17.0</td>\n",
       "    </tr>\n",
       "  </tbody>\n",
       "</table>\n",
       "</div>"
      ],
      "text/plain": [
       "                Time  Global_active_power  Global_reactive_power  Voltage  \\\n",
       "Date                                                                        \n",
       "2006-12-16  17:24:00                4.216                  0.418   234.84   \n",
       "2006-12-16  17:25:00                5.360                  0.436   233.63   \n",
       "2006-12-16  17:26:00                5.374                  0.498   233.29   \n",
       "2006-12-16  17:27:00                5.388                  0.502   233.74   \n",
       "2006-12-16  17:28:00                3.666                  0.528   235.68   \n",
       "\n",
       "            Global_intensity  Sub_metering_1  Sub_metering_2  Sub_metering_3  \n",
       "Date                                                                          \n",
       "2006-12-16              18.4             0.0             1.0            17.0  \n",
       "2006-12-16              23.0             0.0             1.0            16.0  \n",
       "2006-12-16              23.0             0.0             2.0            17.0  \n",
       "2006-12-16              23.0             0.0             1.0            17.0  \n",
       "2006-12-16              15.8             0.0             1.0            17.0  "
      ]
     },
     "execution_count": 13,
     "metadata": {},
     "output_type": "execute_result"
    }
   ],
   "source": [
    "# display the first five rows of the dataset\n",
    "df.head()"
   ]
  },
  {
   "cell_type": "code",
   "execution_count": 14,
   "id": "7a23fec3",
   "metadata": {},
   "outputs": [
    {
     "data": {
      "text/plain": [
       "Time                         0\n",
       "Global_active_power      25979\n",
       "Global_reactive_power    25979\n",
       "Voltage                  25979\n",
       "Global_intensity         25979\n",
       "Sub_metering_1           25979\n",
       "Sub_metering_2           25979\n",
       "Sub_metering_3           25979\n",
       "dtype: int64"
      ]
     },
     "execution_count": 14,
     "metadata": {},
     "output_type": "execute_result"
    }
   ],
   "source": [
    "# check for missing values again \n",
    "df.isnull().sum()"
   ]
  },
  {
   "cell_type": "code",
   "execution_count": 15,
   "id": "570e3aaa",
   "metadata": {},
   "outputs": [
    {
     "data": {
      "text/plain": [
       "Time                     0\n",
       "Global_active_power      0\n",
       "Global_reactive_power    0\n",
       "Voltage                  0\n",
       "Global_intensity         0\n",
       "Sub_metering_1           0\n",
       "Sub_metering_2           0\n",
       "Sub_metering_3           0\n",
       "dtype: int64"
      ]
     },
     "execution_count": 15,
     "metadata": {},
     "output_type": "execute_result"
    }
   ],
   "source": [
    "# Forward-fill missing values\n",
    "df_cleaned = df.fillna(method='ffill')\n",
    "\n",
    "# Check for missing values again\n",
    "df_cleaned.isnull().sum()\n"
   ]
  },
  {
   "cell_type": "code",
   "execution_count": 16,
   "id": "a9f4e9dc",
   "metadata": {},
   "outputs": [
    {
     "name": "stderr",
     "output_type": "stream",
     "text": [
      "C:\\Users\\USER\\AppData\\Local\\Temp\\ipykernel_19836\\1046623969.py:2: FutureWarning: The default value of numeric_only in DataFrameGroupBy.sum is deprecated. In a future version, numeric_only will default to False. Either specify numeric_only or select only columns which should be valid for the function.\n",
      "  df_hourly = df_cleaned.resample('H').sum()\n"
     ]
    }
   ],
   "source": [
    "# Resample the data to hourly frequency and sum the values\n",
    "df_hourly = df_cleaned.resample('H').sum()"
   ]
  },
  {
   "cell_type": "code",
   "execution_count": 17,
   "id": "ad09b24a",
   "metadata": {},
   "outputs": [
    {
     "data": {
      "text/html": [
       "<div>\n",
       "<style scoped>\n",
       "    .dataframe tbody tr th:only-of-type {\n",
       "        vertical-align: middle;\n",
       "    }\n",
       "\n",
       "    .dataframe tbody tr th {\n",
       "        vertical-align: top;\n",
       "    }\n",
       "\n",
       "    .dataframe thead th {\n",
       "        text-align: right;\n",
       "    }\n",
       "</style>\n",
       "<table border=\"1\" class=\"dataframe\">\n",
       "  <thead>\n",
       "    <tr style=\"text-align: right;\">\n",
       "      <th></th>\n",
       "      <th>Global_active_power</th>\n",
       "      <th>Global_reactive_power</th>\n",
       "      <th>Voltage</th>\n",
       "      <th>Global_intensity</th>\n",
       "      <th>Sub_metering_1</th>\n",
       "      <th>Sub_metering_2</th>\n",
       "      <th>Sub_metering_3</th>\n",
       "    </tr>\n",
       "    <tr>\n",
       "      <th>Date</th>\n",
       "      <th></th>\n",
       "      <th></th>\n",
       "      <th></th>\n",
       "      <th></th>\n",
       "      <th></th>\n",
       "      <th></th>\n",
       "      <th></th>\n",
       "    </tr>\n",
       "  </thead>\n",
       "  <tbody>\n",
       "    <tr>\n",
       "      <th>2006-12-16 00:00:00</th>\n",
       "      <td>1209.176</td>\n",
       "      <td>34.922</td>\n",
       "      <td>93552.53</td>\n",
       "      <td>5180.8</td>\n",
       "      <td>0.0</td>\n",
       "      <td>546.0</td>\n",
       "      <td>4926.0</td>\n",
       "    </tr>\n",
       "    <tr>\n",
       "      <th>2006-12-16 01:00:00</th>\n",
       "      <td>0.000</td>\n",
       "      <td>0.000</td>\n",
       "      <td>0.00</td>\n",
       "      <td>0.0</td>\n",
       "      <td>0.0</td>\n",
       "      <td>0.0</td>\n",
       "      <td>0.0</td>\n",
       "    </tr>\n",
       "    <tr>\n",
       "      <th>2006-12-16 02:00:00</th>\n",
       "      <td>0.000</td>\n",
       "      <td>0.000</td>\n",
       "      <td>0.00</td>\n",
       "      <td>0.0</td>\n",
       "      <td>0.0</td>\n",
       "      <td>0.0</td>\n",
       "      <td>0.0</td>\n",
       "    </tr>\n",
       "    <tr>\n",
       "      <th>2006-12-16 03:00:00</th>\n",
       "      <td>0.000</td>\n",
       "      <td>0.000</td>\n",
       "      <td>0.00</td>\n",
       "      <td>0.0</td>\n",
       "      <td>0.0</td>\n",
       "      <td>0.0</td>\n",
       "      <td>0.0</td>\n",
       "    </tr>\n",
       "    <tr>\n",
       "      <th>2006-12-16 04:00:00</th>\n",
       "      <td>0.000</td>\n",
       "      <td>0.000</td>\n",
       "      <td>0.00</td>\n",
       "      <td>0.0</td>\n",
       "      <td>0.0</td>\n",
       "      <td>0.0</td>\n",
       "      <td>0.0</td>\n",
       "    </tr>\n",
       "  </tbody>\n",
       "</table>\n",
       "</div>"
      ],
      "text/plain": [
       "                     Global_active_power  Global_reactive_power   Voltage  \\\n",
       "Date                                                                        \n",
       "2006-12-16 00:00:00             1209.176                 34.922  93552.53   \n",
       "2006-12-16 01:00:00                0.000                  0.000      0.00   \n",
       "2006-12-16 02:00:00                0.000                  0.000      0.00   \n",
       "2006-12-16 03:00:00                0.000                  0.000      0.00   \n",
       "2006-12-16 04:00:00                0.000                  0.000      0.00   \n",
       "\n",
       "                     Global_intensity  Sub_metering_1  Sub_metering_2  \\\n",
       "Date                                                                    \n",
       "2006-12-16 00:00:00            5180.8             0.0           546.0   \n",
       "2006-12-16 01:00:00               0.0             0.0             0.0   \n",
       "2006-12-16 02:00:00               0.0             0.0             0.0   \n",
       "2006-12-16 03:00:00               0.0             0.0             0.0   \n",
       "2006-12-16 04:00:00               0.0             0.0             0.0   \n",
       "\n",
       "                     Sub_metering_3  \n",
       "Date                                 \n",
       "2006-12-16 00:00:00          4926.0  \n",
       "2006-12-16 01:00:00             0.0  \n",
       "2006-12-16 02:00:00             0.0  \n",
       "2006-12-16 03:00:00             0.0  \n",
       "2006-12-16 04:00:00             0.0  "
      ]
     },
     "execution_count": 17,
     "metadata": {},
     "output_type": "execute_result"
    }
   ],
   "source": [
    "# Check the resulting DataFrame\n",
    "df_hourly.head()\n"
   ]
  },
  {
   "cell_type": "markdown",
   "id": "fc574ff8",
   "metadata": {},
   "source": [
    "### Q11: Which of the following is a plot of the hourly global_active_power over time?"
   ]
  },
  {
   "cell_type": "code",
   "execution_count": 18,
   "id": "c75e7551",
   "metadata": {},
   "outputs": [
    {
     "data": {
      "image/png": "[encoded data removed]",
      "text/plain": [
       "<Figure size 1500x600 with 1 Axes>"
      ]
     },
     "metadata": {},
     "output_type": "display_data"
    }
   ],
   "source": [
    "# Plot the hourly global_active_power\n",
    "plt.figure(figsize=(15, 6))\n",
    "plt.plot(df_hourly.index, df_hourly['Global_active_power'], label='Hourly Global Active Power', color='blue')\n",
    "plt.title('Hourly Global Active Power Over Time')\n",
    "plt.xlabel('Time')\n",
    "plt.ylabel('Global Active Power (kW)')\n",
    "plt.legend()\n",
    "plt.show()"
   ]
  },
  {
   "cell_type": "markdown",
   "id": "513014dc",
   "metadata": {},
   "source": [
    "### Q12: What is the Pearson correlation coefficient between the global_active_power and voltage? To 3 decimal places"
   ]
  },
  {
   "cell_type": "code",
   "execution_count": 19,
   "id": "cbebd08f",
   "metadata": {},
   "outputs": [
    {
     "name": "stdout",
     "output_type": "stream",
     "text": [
      "Pearson Correlation Coefficient between the global_active_power and voltage is : -0.396\n"
     ]
    }
   ],
   "source": [
    "# to calculate Pearson correlation coefficient and print the result to 3 decimal places\n",
    "correlation_coefficient = df_cleaned['Global_active_power'].corr(df_cleaned['Voltage'])\n",
    "print(f\"Pearson Correlation Coefficient between the global_active_power and voltage is : {correlation_coefficient:.3f}\")"
   ]
  },
  {
   "cell_type": "markdown",
   "id": "3f8fe4c9",
   "metadata": {},
   "source": [
    "### Q13: What is the Pearson correlation coefficient between the Voltage and global_intensity? To 2 decimal places."
   ]
  },
  {
   "cell_type": "code",
   "execution_count": 20,
   "id": "af2be82f",
   "metadata": {},
   "outputs": [
    {
     "name": "stdout",
     "output_type": "stream",
     "text": [
      "Pearson Correlation Coefficient between Voltage and Global_intensity is : -0.41\n"
     ]
    }
   ],
   "source": [
    "# Calculate Pearson correlation coefficient\n",
    "pcc_vol_intensity = df_cleaned['Voltage'].corr(df_cleaned['Global_intensity'])\n",
    "\n",
    "# result to 2 decimal places\n",
    "print(f\"Pearson Correlation Coefficient between Voltage and Global_intensity is : {pcc_vol_intensity:.2f}\")\n"
   ]
  },
  {
   "cell_type": "code",
   "execution_count": 27,
   "id": "74d373ea",
   "metadata": {},
   "outputs": [
    {
     "name": "stderr",
     "output_type": "stream",
     "text": [
      "C:\\Users\\USER\\AppData\\Local\\Temp\\ipykernel_19836\\2472665559.py:2: FutureWarning: The default value of numeric_only in DataFrameGroupBy.sum is deprecated. In a future version, numeric_only will default to False. Either specify numeric_only or select only columns which should be valid for the function.\n",
      "  df_daily = df_cleaned.resample(\"D\").sum()\n"
     ]
    }
   ],
   "source": [
    "# downsample the dataset on daily basis\n",
    "df_daily = df_cleaned.resample(\"D\").sum()"
   ]
  },
  {
   "cell_type": "code",
   "execution_count": 28,
   "id": "8ed9082d",
   "metadata": {},
   "outputs": [],
   "source": [
    "# reset the dataset index\n",
    "df_daily.reset_index(inplace= True)"
   ]
  },
  {
   "cell_type": "code",
   "execution_count": 29,
   "id": "ed8abd15",
   "metadata": {},
   "outputs": [
    {
     "data": {
      "text/plain": [
       "1457"
      ]
     },
     "execution_count": 29,
     "metadata": {},
     "output_type": "execute_result"
    }
   ],
   "source": [
    "# check for the number rows again after the downsampling\n",
    "df_daily.shape[0]"
   ]
  },
  {
   "cell_type": "code",
   "execution_count": 30,
   "id": "4d60cd0b",
   "metadata": {},
   "outputs": [],
   "source": [
    "# split the dataset into the training and the test sets\n",
    "train_ratio = df_daily.shape[0] - 300\n",
    "train_set = df_daily[:train_ratio] # x-300 where x is the number of samples\n",
    "test_set = df_daily[train_ratio:]  # last 300"
   ]
  },
  {
   "cell_type": "code",
   "execution_count": 31,
   "id": "6038c605",
   "metadata": {},
   "outputs": [
    {
     "name": "stdout",
     "output_type": "stream",
     "text": [
      "Training set is 1157 samples\n",
      "Test set is 300 samples\n"
     ]
    }
   ],
   "source": [
    "# check for the training and the test sets number of rows\n",
    "print(f\"Training set is {train_set.shape[0]} samples\")\n",
    "print(f\"Test set is {test_set.shape[0]} samples\")"
   ]
  },
  {
   "cell_type": "markdown",
   "id": "27caf61b",
   "metadata": {},
   "source": [
    "### Model Training"
   ]
  },
  {
   "cell_type": "code",
   "execution_count": 25,
   "id": "be8fbfe2",
   "metadata": {},
   "outputs": [],
   "source": [
    "from prophet import Prophet"
   ]
  },
  {
   "cell_type": "code",
   "execution_count": 32,
   "id": "b15d8a67",
   "metadata": {},
   "outputs": [
    {
     "name": "stderr",
     "output_type": "stream",
     "text": [
      "01:57:18 - cmdstanpy - INFO - Chain [1] start processing\n",
      "01:57:18 - cmdstanpy - INFO - Chain [1] done processing\n"
     ]
    },
    {
     "data": {
      "text/html": [
       "<div>\n",
       "<style scoped>\n",
       "    .dataframe tbody tr th:only-of-type {\n",
       "        vertical-align: middle;\n",
       "    }\n",
       "\n",
       "    .dataframe tbody tr th {\n",
       "        vertical-align: top;\n",
       "    }\n",
       "\n",
       "    .dataframe thead th {\n",
       "        text-align: right;\n",
       "    }\n",
       "</style>\n",
       "<table border=\"1\" class=\"dataframe\">\n",
       "  <thead>\n",
       "    <tr style=\"text-align: right;\">\n",
       "      <th></th>\n",
       "      <th>ds</th>\n",
       "      <th>trend</th>\n",
       "      <th>yhat_lower</th>\n",
       "      <th>yhat_upper</th>\n",
       "      <th>trend_lower</th>\n",
       "      <th>trend_upper</th>\n",
       "      <th>additive_terms</th>\n",
       "      <th>additive_terms_lower</th>\n",
       "      <th>additive_terms_upper</th>\n",
       "      <th>weekly</th>\n",
       "      <th>weekly_lower</th>\n",
       "      <th>weekly_upper</th>\n",
       "      <th>yearly</th>\n",
       "      <th>yearly_lower</th>\n",
       "      <th>yearly_upper</th>\n",
       "      <th>multiplicative_terms</th>\n",
       "      <th>multiplicative_terms_lower</th>\n",
       "      <th>multiplicative_terms_upper</th>\n",
       "      <th>yhat</th>\n",
       "    </tr>\n",
       "  </thead>\n",
       "  <tbody>\n",
       "    <tr>\n",
       "      <th>0</th>\n",
       "      <td>2010-02-15</td>\n",
       "      <td>1483.889444</td>\n",
       "      <td>624.770080</td>\n",
       "      <td>2096.008336</td>\n",
       "      <td>1483.889444</td>\n",
       "      <td>1483.889444</td>\n",
       "      <td>-155.113062</td>\n",
       "      <td>-155.113062</td>\n",
       "      <td>-155.113062</td>\n",
       "      <td>-105.383712</td>\n",
       "      <td>-105.383712</td>\n",
       "      <td>-105.383712</td>\n",
       "      <td>-49.729350</td>\n",
       "      <td>-49.729350</td>\n",
       "      <td>-49.729350</td>\n",
       "      <td>0.0</td>\n",
       "      <td>0.0</td>\n",
       "      <td>0.0</td>\n",
       "      <td>1328.776382</td>\n",
       "    </tr>\n",
       "    <tr>\n",
       "      <th>1</th>\n",
       "      <td>2010-02-16</td>\n",
       "      <td>1483.750883</td>\n",
       "      <td>680.686312</td>\n",
       "      <td>2216.272423</td>\n",
       "      <td>1483.750883</td>\n",
       "      <td>1483.750883</td>\n",
       "      <td>-80.628024</td>\n",
       "      <td>-80.628024</td>\n",
       "      <td>-80.628024</td>\n",
       "      <td>0.967419</td>\n",
       "      <td>0.967419</td>\n",
       "      <td>0.967419</td>\n",
       "      <td>-81.595443</td>\n",
       "      <td>-81.595443</td>\n",
       "      <td>-81.595443</td>\n",
       "      <td>0.0</td>\n",
       "      <td>0.0</td>\n",
       "      <td>0.0</td>\n",
       "      <td>1403.122859</td>\n",
       "    </tr>\n",
       "    <tr>\n",
       "      <th>2</th>\n",
       "      <td>2010-02-17</td>\n",
       "      <td>1483.612322</td>\n",
       "      <td>657.397170</td>\n",
       "      <td>2076.290036</td>\n",
       "      <td>1483.612322</td>\n",
       "      <td>1483.612322</td>\n",
       "      <td>-137.071635</td>\n",
       "      <td>-137.071635</td>\n",
       "      <td>-137.071635</td>\n",
       "      <td>-26.016080</td>\n",
       "      <td>-26.016080</td>\n",
       "      <td>-26.016080</td>\n",
       "      <td>-111.055555</td>\n",
       "      <td>-111.055555</td>\n",
       "      <td>-111.055555</td>\n",
       "      <td>0.0</td>\n",
       "      <td>0.0</td>\n",
       "      <td>0.0</td>\n",
       "      <td>1346.540687</td>\n",
       "    </tr>\n",
       "    <tr>\n",
       "      <th>3</th>\n",
       "      <td>2010-02-18</td>\n",
       "      <td>1483.473762</td>\n",
       "      <td>530.887180</td>\n",
       "      <td>1965.852855</td>\n",
       "      <td>1483.473762</td>\n",
       "      <td>1483.473762</td>\n",
       "      <td>-233.525445</td>\n",
       "      <td>-233.525445</td>\n",
       "      <td>-233.525445</td>\n",
       "      <td>-95.824006</td>\n",
       "      <td>-95.824006</td>\n",
       "      <td>-95.824006</td>\n",
       "      <td>-137.701439</td>\n",
       "      <td>-137.701439</td>\n",
       "      <td>-137.701439</td>\n",
       "      <td>0.0</td>\n",
       "      <td>0.0</td>\n",
       "      <td>0.0</td>\n",
       "      <td>1249.948317</td>\n",
       "    </tr>\n",
       "    <tr>\n",
       "      <th>4</th>\n",
       "      <td>2010-02-19</td>\n",
       "      <td>1483.335201</td>\n",
       "      <td>583.150141</td>\n",
       "      <td>2064.624055</td>\n",
       "      <td>1483.335201</td>\n",
       "      <td>1483.335201</td>\n",
       "      <td>-204.917015</td>\n",
       "      <td>-204.917015</td>\n",
       "      <td>-204.917015</td>\n",
       "      <td>-43.739193</td>\n",
       "      <td>-43.739193</td>\n",
       "      <td>-43.739193</td>\n",
       "      <td>-161.177822</td>\n",
       "      <td>-161.177822</td>\n",
       "      <td>-161.177822</td>\n",
       "      <td>0.0</td>\n",
       "      <td>0.0</td>\n",
       "      <td>0.0</td>\n",
       "      <td>1278.418186</td>\n",
       "    </tr>\n",
       "  </tbody>\n",
       "</table>\n",
       "</div>"
      ],
      "text/plain": [
       "          ds        trend  yhat_lower   yhat_upper  trend_lower  trend_upper  \\\n",
       "0 2010-02-15  1483.889444  624.770080  2096.008336  1483.889444  1483.889444   \n",
       "1 2010-02-16  1483.750883  680.686312  2216.272423  1483.750883  1483.750883   \n",
       "2 2010-02-17  1483.612322  657.397170  2076.290036  1483.612322  1483.612322   \n",
       "3 2010-02-18  1483.473762  530.887180  1965.852855  1483.473762  1483.473762   \n",
       "4 2010-02-19  1483.335201  583.150141  2064.624055  1483.335201  1483.335201   \n",
       "\n",
       "   additive_terms  additive_terms_lower  additive_terms_upper      weekly  \\\n",
       "0     -155.113062           -155.113062           -155.113062 -105.383712   \n",
       "1      -80.628024            -80.628024            -80.628024    0.967419   \n",
       "2     -137.071635           -137.071635           -137.071635  -26.016080   \n",
       "3     -233.525445           -233.525445           -233.525445  -95.824006   \n",
       "4     -204.917015           -204.917015           -204.917015  -43.739193   \n",
       "\n",
       "   weekly_lower  weekly_upper      yearly  yearly_lower  yearly_upper  \\\n",
       "0   -105.383712   -105.383712  -49.729350    -49.729350    -49.729350   \n",
       "1      0.967419      0.967419  -81.595443    -81.595443    -81.595443   \n",
       "2    -26.016080    -26.016080 -111.055555   -111.055555   -111.055555   \n",
       "3    -95.824006    -95.824006 -137.701439   -137.701439   -137.701439   \n",
       "4    -43.739193    -43.739193 -161.177822   -161.177822   -161.177822   \n",
       "\n",
       "   multiplicative_terms  multiplicative_terms_lower  \\\n",
       "0                   0.0                         0.0   \n",
       "1                   0.0                         0.0   \n",
       "2                   0.0                         0.0   \n",
       "3                   0.0                         0.0   \n",
       "4                   0.0                         0.0   \n",
       "\n",
       "   multiplicative_terms_upper         yhat  \n",
       "0                         0.0  1328.776382  \n",
       "1                         0.0  1403.122859  \n",
       "2                         0.0  1346.540687  \n",
       "3                         0.0  1249.948317  \n",
       "4                         0.0  1278.418186  "
      ]
     },
     "execution_count": 32,
     "metadata": {},
     "output_type": "execute_result"
    }
   ],
   "source": [
    "train_set = train_set.rename(columns= {'Date' : 'ds', 'Global_active_power' : 'y'})\n",
    "test_set = test_set.rename(columns= {'Date' : 'ds', 'Global_active_power' : 'y'})\n",
    "\n",
    "model = Prophet()\n",
    "model.fit(train_set[['ds', 'y']])\n",
    "forecast = model.predict(test_set[['ds', 'y']])\n",
    "forecast.head()"
   ]
  },
  {
   "cell_type": "code",
   "execution_count": 33,
   "id": "222b75a7",
   "metadata": {},
   "outputs": [],
   "source": [
    "# import the necessary packages\n",
    "from sklearn.metrics import mean_absolute_percentage_error\n",
    "from sklearn.metrics import mean_squared_error"
   ]
  },
  {
   "cell_type": "code",
   "execution_count": 34,
   "id": "00a8fcf5",
   "metadata": {},
   "outputs": [
    {
     "data": {
      "text/plain": [
       "576.4803770771956"
      ]
     },
     "execution_count": 34,
     "metadata": {},
     "output_type": "execute_result"
    }
   ],
   "source": [
    "# RMSE\n",
    "np.sqrt(mean_squared_error(test_set['y'], forecast['yhat']))"
   ]
  },
  {
   "cell_type": "code",
   "execution_count": 37,
   "id": "6e7143e3",
   "metadata": {},
   "outputs": [
    {
     "data": {
      "text/html": [
       "<div>\n",
       "<style scoped>\n",
       "    .dataframe tbody tr th:only-of-type {\n",
       "        vertical-align: middle;\n",
       "    }\n",
       "\n",
       "    .dataframe tbody tr th {\n",
       "        vertical-align: top;\n",
       "    }\n",
       "\n",
       "    .dataframe thead th {\n",
       "        text-align: right;\n",
       "    }\n",
       "</style>\n",
       "<table border=\"1\" class=\"dataframe\">\n",
       "  <thead>\n",
       "    <tr style=\"text-align: right;\">\n",
       "      <th></th>\n",
       "      <th>ds</th>\n",
       "      <th>yhat</th>\n",
       "      <th>yhat_lower</th>\n",
       "      <th>yhat_upper</th>\n",
       "      <th>trend</th>\n",
       "      <th>trend_lower</th>\n",
       "      <th>trend_upper</th>\n",
       "    </tr>\n",
       "  </thead>\n",
       "  <tbody>\n",
       "    <tr>\n",
       "      <th>0</th>\n",
       "      <td>2010-02-15</td>\n",
       "      <td>1328.776382</td>\n",
       "      <td>624.770080</td>\n",
       "      <td>2096.008336</td>\n",
       "      <td>1483.889444</td>\n",
       "      <td>1483.889444</td>\n",
       "      <td>1483.889444</td>\n",
       "    </tr>\n",
       "    <tr>\n",
       "      <th>1</th>\n",
       "      <td>2010-02-16</td>\n",
       "      <td>1403.122859</td>\n",
       "      <td>680.686312</td>\n",
       "      <td>2216.272423</td>\n",
       "      <td>1483.750883</td>\n",
       "      <td>1483.750883</td>\n",
       "      <td>1483.750883</td>\n",
       "    </tr>\n",
       "    <tr>\n",
       "      <th>2</th>\n",
       "      <td>2010-02-17</td>\n",
       "      <td>1346.540687</td>\n",
       "      <td>657.397170</td>\n",
       "      <td>2076.290036</td>\n",
       "      <td>1483.612322</td>\n",
       "      <td>1483.612322</td>\n",
       "      <td>1483.612322</td>\n",
       "    </tr>\n",
       "    <tr>\n",
       "      <th>3</th>\n",
       "      <td>2010-02-18</td>\n",
       "      <td>1249.948317</td>\n",
       "      <td>530.887180</td>\n",
       "      <td>1965.852855</td>\n",
       "      <td>1483.473762</td>\n",
       "      <td>1483.473762</td>\n",
       "      <td>1483.473762</td>\n",
       "    </tr>\n",
       "    <tr>\n",
       "      <th>4</th>\n",
       "      <td>2010-02-19</td>\n",
       "      <td>1278.418186</td>\n",
       "      <td>583.150141</td>\n",
       "      <td>2064.624055</td>\n",
       "      <td>1483.335201</td>\n",
       "      <td>1483.335201</td>\n",
       "      <td>1483.335201</td>\n",
       "    </tr>\n",
       "    <tr>\n",
       "      <th>...</th>\n",
       "      <td>...</td>\n",
       "      <td>...</td>\n",
       "      <td>...</td>\n",
       "      <td>...</td>\n",
       "      <td>...</td>\n",
       "      <td>...</td>\n",
       "      <td>...</td>\n",
       "    </tr>\n",
       "    <tr>\n",
       "      <th>295</th>\n",
       "      <td>2010-12-07</td>\n",
       "      <td>1745.275005</td>\n",
       "      <td>1055.034489</td>\n",
       "      <td>2496.058939</td>\n",
       "      <td>1443.014057</td>\n",
       "      <td>1442.528602</td>\n",
       "      <td>1443.483903</td>\n",
       "    </tr>\n",
       "    <tr>\n",
       "      <th>296</th>\n",
       "      <td>2010-12-08</td>\n",
       "      <td>1721.389214</td>\n",
       "      <td>988.969881</td>\n",
       "      <td>2442.513481</td>\n",
       "      <td>1442.875497</td>\n",
       "      <td>1442.388205</td>\n",
       "      <td>1443.347788</td>\n",
       "    </tr>\n",
       "    <tr>\n",
       "      <th>297</th>\n",
       "      <td>2010-12-09</td>\n",
       "      <td>1656.176303</td>\n",
       "      <td>957.618474</td>\n",
       "      <td>2371.745828</td>\n",
       "      <td>1442.736936</td>\n",
       "      <td>1442.247808</td>\n",
       "      <td>1443.211868</td>\n",
       "    </tr>\n",
       "    <tr>\n",
       "      <th>298</th>\n",
       "      <td>2010-12-10</td>\n",
       "      <td>1714.308248</td>\n",
       "      <td>997.629382</td>\n",
       "      <td>2429.734151</td>\n",
       "      <td>1442.598375</td>\n",
       "      <td>1442.107269</td>\n",
       "      <td>1443.075947</td>\n",
       "    </tr>\n",
       "    <tr>\n",
       "      <th>299</th>\n",
       "      <td>2010-12-11</td>\n",
       "      <td>1915.862515</td>\n",
       "      <td>1150.423422</td>\n",
       "      <td>2620.876840</td>\n",
       "      <td>1442.459815</td>\n",
       "      <td>1441.966115</td>\n",
       "      <td>1442.940027</td>\n",
       "    </tr>\n",
       "  </tbody>\n",
       "</table>\n",
       "<p>300 rows × 7 columns</p>\n",
       "</div>"
      ],
      "text/plain": [
       "            ds         yhat   yhat_lower   yhat_upper        trend  \\\n",
       "0   2010-02-15  1328.776382   624.770080  2096.008336  1483.889444   \n",
       "1   2010-02-16  1403.122859   680.686312  2216.272423  1483.750883   \n",
       "2   2010-02-17  1346.540687   657.397170  2076.290036  1483.612322   \n",
       "3   2010-02-18  1249.948317   530.887180  1965.852855  1483.473762   \n",
       "4   2010-02-19  1278.418186   583.150141  2064.624055  1483.335201   \n",
       "..         ...          ...          ...          ...          ...   \n",
       "295 2010-12-07  1745.275005  1055.034489  2496.058939  1443.014057   \n",
       "296 2010-12-08  1721.389214   988.969881  2442.513481  1442.875497   \n",
       "297 2010-12-09  1656.176303   957.618474  2371.745828  1442.736936   \n",
       "298 2010-12-10  1714.308248   997.629382  2429.734151  1442.598375   \n",
       "299 2010-12-11  1915.862515  1150.423422  2620.876840  1442.459815   \n",
       "\n",
       "     trend_lower  trend_upper  \n",
       "0    1483.889444  1483.889444  \n",
       "1    1483.750883  1483.750883  \n",
       "2    1483.612322  1483.612322  \n",
       "3    1483.473762  1483.473762  \n",
       "4    1483.335201  1483.335201  \n",
       "..           ...          ...  \n",
       "295  1442.528602  1443.483903  \n",
       "296  1442.388205  1443.347788  \n",
       "297  1442.247808  1443.211868  \n",
       "298  1442.107269  1443.075947  \n",
       "299  1441.966115  1442.940027  \n",
       "\n",
       "[300 rows x 7 columns]"
      ]
     },
     "execution_count": 37,
     "metadata": {},
     "output_type": "execute_result"
    }
   ],
   "source": [
    "forecast[['ds', 'yhat', 'yhat_lower', 'yhat_upper', 'trend', 'trend_lower', 'trend_upper']]"
   ]
  },
  {
   "cell_type": "code",
   "execution_count": 38,
   "id": "2487b62f",
   "metadata": {},
   "outputs": [
    {
     "data": {
      "image/png": "[encoded data removed]",
      "text/plain": [
       "<Figure size 1000x600 with 1 Axes>"
      ]
     },
     "metadata": {},
     "output_type": "display_data"
    }
   ],
   "source": [
    "model.plot(forecast)\n",
    "plt.show()"
   ]
  },
  {
   "cell_type": "code",
   "execution_count": 43,
   "id": "96975c2c",
   "metadata": {},
   "outputs": [],
   "source": [
    "old_columns = ['Global_reactive_power', 'Voltage','Global_intensity', 'Sub_metering_1','Sub_metering_2','Sub_metering_3']\n",
    "new_columns = ['add1', 'add2', 'add3', 'add4', 'add5', 'add6']\n",
    "\n",
    "train_set = train_set.rename(columns= dict(zip(old_columns, new_columns)))\n",
    "test_set = test_set.rename(columns= dict(zip(old_columns, new_columns)))"
   ]
  },
  {
   "cell_type": "code",
   "execution_count": 44,
   "id": "18d64f9e",
   "metadata": {},
   "outputs": [],
   "source": [
    "model = Prophet()"
   ]
  },
  {
   "cell_type": "code",
   "execution_count": 45,
   "id": "fbcf3532",
   "metadata": {},
   "outputs": [
    {
     "data": {
      "text/plain": [
       "<prophet.forecaster.Prophet at 0x23cacd58050>"
      ]
     },
     "execution_count": 45,
     "metadata": {},
     "output_type": "execute_result"
    }
   ],
   "source": [
    "model.add_regressor('add1')\n",
    "model.add_regressor('add2')\n",
    "model.add_regressor('add3')\n",
    "model.add_regressor('add4')\n",
    "model.add_regressor('add5')\n",
    "model.add_regressor('add6')"
   ]
  },
  {
   "cell_type": "code",
   "execution_count": 46,
   "id": "df313a7f",
   "metadata": {},
   "outputs": [
    {
     "name": "stderr",
     "output_type": "stream",
     "text": [
      "02:13:50 - cmdstanpy - INFO - Chain [1] start processing\n",
      "02:13:51 - cmdstanpy - INFO - Chain [1] done processing\n"
     ]
    }
   ],
   "source": [
    "model.fit(train_set[['ds', 'y', 'add1', 'add2', 'add3', 'add4', 'add5', 'add6']])\n",
    "forecast = model.predict(test_set[['ds', 'y', 'add1', 'add2', 'add3', 'add4', 'add5', 'add6']])"
   ]
  },
  {
   "cell_type": "code",
   "execution_count": 47,
   "id": "a7660d6b",
   "metadata": {},
   "outputs": [
    {
     "data": {
      "text/html": [
       "<div>\n",
       "<style scoped>\n",
       "    .dataframe tbody tr th:only-of-type {\n",
       "        vertical-align: middle;\n",
       "    }\n",
       "\n",
       "    .dataframe tbody tr th {\n",
       "        vertical-align: top;\n",
       "    }\n",
       "\n",
       "    .dataframe thead th {\n",
       "        text-align: right;\n",
       "    }\n",
       "</style>\n",
       "<table border=\"1\" class=\"dataframe\">\n",
       "  <thead>\n",
       "    <tr style=\"text-align: right;\">\n",
       "      <th></th>\n",
       "      <th>ds</th>\n",
       "      <th>trend</th>\n",
       "      <th>yhat_lower</th>\n",
       "      <th>yhat_upper</th>\n",
       "      <th>trend_lower</th>\n",
       "      <th>trend_upper</th>\n",
       "      <th>add1</th>\n",
       "      <th>add1_lower</th>\n",
       "      <th>add1_upper</th>\n",
       "      <th>add2</th>\n",
       "      <th>...</th>\n",
       "      <th>weekly</th>\n",
       "      <th>weekly_lower</th>\n",
       "      <th>weekly_upper</th>\n",
       "      <th>yearly</th>\n",
       "      <th>yearly_lower</th>\n",
       "      <th>yearly_upper</th>\n",
       "      <th>multiplicative_terms</th>\n",
       "      <th>multiplicative_terms_lower</th>\n",
       "      <th>multiplicative_terms_upper</th>\n",
       "      <th>yhat</th>\n",
       "    </tr>\n",
       "  </thead>\n",
       "  <tbody>\n",
       "    <tr>\n",
       "      <th>0</th>\n",
       "      <td>2010-02-15</td>\n",
       "      <td>1597.535429</td>\n",
       "      <td>2086.482417</td>\n",
       "      <td>2127.002873</td>\n",
       "      <td>1597.535429</td>\n",
       "      <td>1597.535429</td>\n",
       "      <td>11.814316</td>\n",
       "      <td>11.814316</td>\n",
       "      <td>11.814316</td>\n",
       "      <td>0.787510</td>\n",
       "      <td>...</td>\n",
       "      <td>-0.863278</td>\n",
       "      <td>-0.863278</td>\n",
       "      <td>-0.863278</td>\n",
       "      <td>11.243454</td>\n",
       "      <td>11.243454</td>\n",
       "      <td>11.243454</td>\n",
       "      <td>0.0</td>\n",
       "      <td>0.0</td>\n",
       "      <td>0.0</td>\n",
       "      <td>2107.199446</td>\n",
       "    </tr>\n",
       "    <tr>\n",
       "      <th>1</th>\n",
       "      <td>2010-02-16</td>\n",
       "      <td>1597.542073</td>\n",
       "      <td>1778.960954</td>\n",
       "      <td>1819.050603</td>\n",
       "      <td>1597.542073</td>\n",
       "      <td>1597.542073</td>\n",
       "      <td>14.917724</td>\n",
       "      <td>14.917724</td>\n",
       "      <td>14.917724</td>\n",
       "      <td>0.860570</td>\n",
       "      <td>...</td>\n",
       "      <td>-1.493351</td>\n",
       "      <td>-1.493351</td>\n",
       "      <td>-1.493351</td>\n",
       "      <td>11.345567</td>\n",
       "      <td>11.345567</td>\n",
       "      <td>11.345567</td>\n",
       "      <td>0.0</td>\n",
       "      <td>0.0</td>\n",
       "      <td>0.0</td>\n",
       "      <td>1797.797339</td>\n",
       "    </tr>\n",
       "    <tr>\n",
       "      <th>2</th>\n",
       "      <td>2010-02-17</td>\n",
       "      <td>1597.548716</td>\n",
       "      <td>2044.651291</td>\n",
       "      <td>2084.522773</td>\n",
       "      <td>1597.548716</td>\n",
       "      <td>1597.548716</td>\n",
       "      <td>14.929963</td>\n",
       "      <td>14.929963</td>\n",
       "      <td>14.929963</td>\n",
       "      <td>0.525730</td>\n",
       "      <td>...</td>\n",
       "      <td>1.553053</td>\n",
       "      <td>1.553053</td>\n",
       "      <td>1.553053</td>\n",
       "      <td>11.402845</td>\n",
       "      <td>11.402845</td>\n",
       "      <td>11.402845</td>\n",
       "      <td>0.0</td>\n",
       "      <td>0.0</td>\n",
       "      <td>0.0</td>\n",
       "      <td>2064.764937</td>\n",
       "    </tr>\n",
       "    <tr>\n",
       "      <th>3</th>\n",
       "      <td>2010-02-18</td>\n",
       "      <td>1597.555359</td>\n",
       "      <td>1741.408812</td>\n",
       "      <td>1782.019843</td>\n",
       "      <td>1597.555359</td>\n",
       "      <td>1597.555359</td>\n",
       "      <td>9.491550</td>\n",
       "      <td>9.491550</td>\n",
       "      <td>9.491550</td>\n",
       "      <td>0.821166</td>\n",
       "      <td>...</td>\n",
       "      <td>0.190372</td>\n",
       "      <td>0.190372</td>\n",
       "      <td>0.190372</td>\n",
       "      <td>11.416089</td>\n",
       "      <td>11.416089</td>\n",
       "      <td>11.416089</td>\n",
       "      <td>0.0</td>\n",
       "      <td>0.0</td>\n",
       "      <td>0.0</td>\n",
       "      <td>1760.392203</td>\n",
       "    </tr>\n",
       "    <tr>\n",
       "      <th>4</th>\n",
       "      <td>2010-02-19</td>\n",
       "      <td>1597.562003</td>\n",
       "      <td>1949.329987</td>\n",
       "      <td>1992.422569</td>\n",
       "      <td>1597.562003</td>\n",
       "      <td>1597.562003</td>\n",
       "      <td>10.781975</td>\n",
       "      <td>10.781975</td>\n",
       "      <td>10.781975</td>\n",
       "      <td>0.373554</td>\n",
       "      <td>...</td>\n",
       "      <td>-1.354281</td>\n",
       "      <td>-1.354281</td>\n",
       "      <td>-1.354281</td>\n",
       "      <td>11.386887</td>\n",
       "      <td>11.386887</td>\n",
       "      <td>11.386887</td>\n",
       "      <td>0.0</td>\n",
       "      <td>0.0</td>\n",
       "      <td>0.0</td>\n",
       "      <td>1970.863339</td>\n",
       "    </tr>\n",
       "  </tbody>\n",
       "</table>\n",
       "<p>5 rows × 40 columns</p>\n",
       "</div>"
      ],
      "text/plain": [
       "          ds        trend   yhat_lower   yhat_upper  trend_lower  trend_upper  \\\n",
       "0 2010-02-15  1597.535429  2086.482417  2127.002873  1597.535429  1597.535429   \n",
       "1 2010-02-16  1597.542073  1778.960954  1819.050603  1597.542073  1597.542073   \n",
       "2 2010-02-17  1597.548716  2044.651291  2084.522773  1597.548716  1597.548716   \n",
       "3 2010-02-18  1597.555359  1741.408812  1782.019843  1597.555359  1597.555359   \n",
       "4 2010-02-19  1597.562003  1949.329987  1992.422569  1597.562003  1597.562003   \n",
       "\n",
       "        add1  add1_lower  add1_upper      add2  ...    weekly  weekly_lower  \\\n",
       "0  11.814316   11.814316   11.814316  0.787510  ... -0.863278     -0.863278   \n",
       "1  14.917724   14.917724   14.917724  0.860570  ... -1.493351     -1.493351   \n",
       "2  14.929963   14.929963   14.929963  0.525730  ...  1.553053      1.553053   \n",
       "3   9.491550    9.491550    9.491550  0.821166  ...  0.190372      0.190372   \n",
       "4  10.781975   10.781975   10.781975  0.373554  ... -1.354281     -1.354281   \n",
       "\n",
       "   weekly_upper     yearly  yearly_lower  yearly_upper  multiplicative_terms  \\\n",
       "0     -0.863278  11.243454     11.243454     11.243454                   0.0   \n",
       "1     -1.493351  11.345567     11.345567     11.345567                   0.0   \n",
       "2      1.553053  11.402845     11.402845     11.402845                   0.0   \n",
       "3      0.190372  11.416089     11.416089     11.416089                   0.0   \n",
       "4     -1.354281  11.386887     11.386887     11.386887                   0.0   \n",
       "\n",
       "   multiplicative_terms_lower  multiplicative_terms_upper         yhat  \n",
       "0                         0.0                         0.0  2107.199446  \n",
       "1                         0.0                         0.0  1797.797339  \n",
       "2                         0.0                         0.0  2064.764937  \n",
       "3                         0.0                         0.0  1760.392203  \n",
       "4                         0.0                         0.0  1970.863339  \n",
       "\n",
       "[5 rows x 40 columns]"
      ]
     },
     "execution_count": 47,
     "metadata": {},
     "output_type": "execute_result"
    }
   ],
   "source": [
    "forecast.head()"
   ]
  },
  {
   "cell_type": "code",
   "execution_count": 48,
   "id": "33c43df8",
   "metadata": {},
   "outputs": [
    {
     "data": {
      "text/html": [
       "<div>\n",
       "<style scoped>\n",
       "    .dataframe tbody tr th:only-of-type {\n",
       "        vertical-align: middle;\n",
       "    }\n",
       "\n",
       "    .dataframe tbody tr th {\n",
       "        vertical-align: top;\n",
       "    }\n",
       "\n",
       "    .dataframe thead th {\n",
       "        text-align: right;\n",
       "    }\n",
       "</style>\n",
       "<table border=\"1\" class=\"dataframe\">\n",
       "  <thead>\n",
       "    <tr style=\"text-align: right;\">\n",
       "      <th></th>\n",
       "      <th>ds</th>\n",
       "      <th>yhat</th>\n",
       "      <th>yhat_lower</th>\n",
       "      <th>yhat_upper</th>\n",
       "      <th>trend</th>\n",
       "      <th>trend_lower</th>\n",
       "      <th>trend_upper</th>\n",
       "    </tr>\n",
       "  </thead>\n",
       "  <tbody>\n",
       "    <tr>\n",
       "      <th>0</th>\n",
       "      <td>2010-02-15</td>\n",
       "      <td>2107.199446</td>\n",
       "      <td>2086.482417</td>\n",
       "      <td>2127.002873</td>\n",
       "      <td>1597.535429</td>\n",
       "      <td>1597.535429</td>\n",
       "      <td>1597.535429</td>\n",
       "    </tr>\n",
       "    <tr>\n",
       "      <th>1</th>\n",
       "      <td>2010-02-16</td>\n",
       "      <td>1797.797339</td>\n",
       "      <td>1778.960954</td>\n",
       "      <td>1819.050603</td>\n",
       "      <td>1597.542073</td>\n",
       "      <td>1597.542073</td>\n",
       "      <td>1597.542073</td>\n",
       "    </tr>\n",
       "    <tr>\n",
       "      <th>2</th>\n",
       "      <td>2010-02-17</td>\n",
       "      <td>2064.764937</td>\n",
       "      <td>2044.651291</td>\n",
       "      <td>2084.522773</td>\n",
       "      <td>1597.548716</td>\n",
       "      <td>1597.548716</td>\n",
       "      <td>1597.548716</td>\n",
       "    </tr>\n",
       "    <tr>\n",
       "      <th>3</th>\n",
       "      <td>2010-02-18</td>\n",
       "      <td>1760.392203</td>\n",
       "      <td>1741.408812</td>\n",
       "      <td>1782.019843</td>\n",
       "      <td>1597.555359</td>\n",
       "      <td>1597.555359</td>\n",
       "      <td>1597.555359</td>\n",
       "    </tr>\n",
       "    <tr>\n",
       "      <th>4</th>\n",
       "      <td>2010-02-19</td>\n",
       "      <td>1970.863339</td>\n",
       "      <td>1949.329987</td>\n",
       "      <td>1992.422569</td>\n",
       "      <td>1597.562003</td>\n",
       "      <td>1597.562003</td>\n",
       "      <td>1597.562003</td>\n",
       "    </tr>\n",
       "    <tr>\n",
       "      <th>...</th>\n",
       "      <td>...</td>\n",
       "      <td>...</td>\n",
       "      <td>...</td>\n",
       "      <td>...</td>\n",
       "      <td>...</td>\n",
       "      <td>...</td>\n",
       "      <td>...</td>\n",
       "    </tr>\n",
       "    <tr>\n",
       "      <th>295</th>\n",
       "      <td>2010-12-07</td>\n",
       "      <td>1133.362859</td>\n",
       "      <td>1062.580357</td>\n",
       "      <td>1204.240234</td>\n",
       "      <td>1599.495214</td>\n",
       "      <td>1532.337715</td>\n",
       "      <td>1666.126107</td>\n",
       "    </tr>\n",
       "    <tr>\n",
       "      <th>296</th>\n",
       "      <td>2010-12-08</td>\n",
       "      <td>553.153108</td>\n",
       "      <td>483.212079</td>\n",
       "      <td>625.492386</td>\n",
       "      <td>1599.501857</td>\n",
       "      <td>1531.910391</td>\n",
       "      <td>1666.383428</td>\n",
       "    </tr>\n",
       "    <tr>\n",
       "      <th>297</th>\n",
       "      <td>2010-12-09</td>\n",
       "      <td>1633.089715</td>\n",
       "      <td>1563.615424</td>\n",
       "      <td>1706.401216</td>\n",
       "      <td>1599.508501</td>\n",
       "      <td>1531.604583</td>\n",
       "      <td>1666.640748</td>\n",
       "    </tr>\n",
       "    <tr>\n",
       "      <th>298</th>\n",
       "      <td>2010-12-10</td>\n",
       "      <td>1618.658572</td>\n",
       "      <td>1549.922541</td>\n",
       "      <td>1688.068876</td>\n",
       "      <td>1599.515144</td>\n",
       "      <td>1531.322886</td>\n",
       "      <td>1666.898068</td>\n",
       "    </tr>\n",
       "    <tr>\n",
       "      <th>299</th>\n",
       "      <td>2010-12-11</td>\n",
       "      <td>1887.472633</td>\n",
       "      <td>1818.363323</td>\n",
       "      <td>1960.242093</td>\n",
       "      <td>1599.521787</td>\n",
       "      <td>1531.041189</td>\n",
       "      <td>1667.155388</td>\n",
       "    </tr>\n",
       "  </tbody>\n",
       "</table>\n",
       "<p>300 rows × 7 columns</p>\n",
       "</div>"
      ],
      "text/plain": [
       "            ds         yhat   yhat_lower   yhat_upper        trend  \\\n",
       "0   2010-02-15  2107.199446  2086.482417  2127.002873  1597.535429   \n",
       "1   2010-02-16  1797.797339  1778.960954  1819.050603  1597.542073   \n",
       "2   2010-02-17  2064.764937  2044.651291  2084.522773  1597.548716   \n",
       "3   2010-02-18  1760.392203  1741.408812  1782.019843  1597.555359   \n",
       "4   2010-02-19  1970.863339  1949.329987  1992.422569  1597.562003   \n",
       "..         ...          ...          ...          ...          ...   \n",
       "295 2010-12-07  1133.362859  1062.580357  1204.240234  1599.495214   \n",
       "296 2010-12-08   553.153108   483.212079   625.492386  1599.501857   \n",
       "297 2010-12-09  1633.089715  1563.615424  1706.401216  1599.508501   \n",
       "298 2010-12-10  1618.658572  1549.922541  1688.068876  1599.515144   \n",
       "299 2010-12-11  1887.472633  1818.363323  1960.242093  1599.521787   \n",
       "\n",
       "     trend_lower  trend_upper  \n",
       "0    1597.535429  1597.535429  \n",
       "1    1597.542073  1597.542073  \n",
       "2    1597.548716  1597.548716  \n",
       "3    1597.555359  1597.555359  \n",
       "4    1597.562003  1597.562003  \n",
       "..           ...          ...  \n",
       "295  1532.337715  1666.126107  \n",
       "296  1531.910391  1666.383428  \n",
       "297  1531.604583  1666.640748  \n",
       "298  1531.322886  1666.898068  \n",
       "299  1531.041189  1667.155388  \n",
       "\n",
       "[300 rows x 7 columns]"
      ]
     },
     "execution_count": 48,
     "metadata": {},
     "output_type": "execute_result"
    }
   ],
   "source": [
    "forecast[['ds', 'yhat', 'yhat_lower', 'yhat_upper', 'trend', 'trend_lower', 'trend_upper']]"
   ]
  },
  {
   "cell_type": "code",
   "execution_count": 49,
   "id": "1dcf05d4",
   "metadata": {},
   "outputs": [
    {
     "data": {
      "image/png": "[encoded data removed]",
      "text/plain": [
       "<Figure size 1000x600 with 1 Axes>"
      ]
     },
     "metadata": {},
     "output_type": "display_data"
    }
   ],
   "source": [
    "model.plot(forecast)\n",
    "plt.show()"
   ]
  },
  {
   "cell_type": "code",
   "execution_count": 50,
   "id": "5949f306",
   "metadata": {},
   "outputs": [
    {
     "data": {
      "text/plain": [
       "18.57033769519785"
      ]
     },
     "execution_count": 50,
     "metadata": {},
     "output_type": "execute_result"
    }
   ],
   "source": [
    "# RMSE\n",
    "np.sqrt(mean_squared_error(test_set['y'], forecast['yhat']))"
   ]
  },
  {
   "cell_type": "code",
   "execution_count": null,
   "id": "ba101a2e",
   "metadata": {},
   "outputs": [],
   "source": []
  },
  {
   "cell_type": "code",
   "execution_count": null,
   "id": "763ce435",
   "metadata": {},
   "outputs": [],
   "source": []
  },
  {
   "cell_type": "code",
   "execution_count": null,
   "id": "cfcfdb6f",
   "metadata": {},
   "outputs": [],
   "source": []
  }
 ],
 "metadata": {
  "kernelspec": {
   "display_name": "Python 3 (ipykernel)",
   "language": "python",
   "name": "python3"
  },
  "language_info": {
   "codemirror_mode": {
    "name": "ipython",
    "version": 3
   },
   "file_extension": ".py",
   "mimetype": "text/x-python",
   "name": "python",
   "nbconvert_exporter": "python",
   "pygments_lexer": "ipython3",
   "version": "3.11.3"
  }
 },
 "nbformat": 4,
 "nbformat_minor": 5
}
